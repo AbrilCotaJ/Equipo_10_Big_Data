{
  "nbformat": 4,
  "nbformat_minor": 0,
  "metadata": {
    "colab": {
      "provenance": []
    },
    "kernelspec": {
      "name": "python3",
      "display_name": "Python 3"
    },
    "language_info": {
      "name": "python"
    }
  },
  "cells": [
    {
      "cell_type": "code",
      "execution_count": null,
      "metadata": {
        "id": "yGFb00JFuMe9"
      },
      "outputs": [],
      "source": [
        "import pandas as pd\n",
        "from surprise import Dataset, Reader, SVD, accuracy\n",
        "from surprise.model_selection import train_test_split\n",
        "# Cargar datos desde archivos JSON\n",
        "\n",
        "with open('user_item_data.json', 'r') as f:\n",
        "    user_item_data = json.load(f)\n",
        "\n",
        "with open('review_data.json', 'r') as f:\n",
        "    review_data = json.load(f)\n",
        "\n",
        "with open('bundle_data.json', 'r') as f:\n",
        "    bundle_data = json.load(f)"
      ]
    },
    {
      "cell_type": "code",
      "source": [
        "# Crear DataFrames\n",
        "user_item_df = pd.DataFrame(user_item_data['items'])\n",
        "review_df = pd.DataFrame([review_data])\n",
        "bundle_df = pd.DataFrame(bundle_data['items'])\n",
        "\n",
        "# Preprocesamiento\n",
        "\n",
        "# Convertir los datos de revisión en un DataFrame adecuado para Surprise\n",
        "review_df = review_df.rename(columns={'username': 'userID', 'product_id': 'itemID', 'text': 'rating'})\n",
        "review_df['rating'] = 1  # Añadir una columna de calificaciones ficticias para que el formato sea adecuado\n",
        "reader = Reader(rating_scale=(1, 5))\n",
        "data = Dataset.load_from_df(review_df[['userID', 'itemID', 'rating']], reader)\n",
        "\n",
        "# Entrenar el modelo con todos los datos disponibles\n",
        "trainset = data.build_full_trainset()\n",
        "algo = SVD()\n",
        "algo.fit(trainset)\n",
        "\n",
        "# Función de recomendación\n",
        "def recommend(userID, user_item_df, review_df, bundle_df, algo, n=10):\n",
        "    # Obtener los items que el usuario ya ha visto\n",
        "    user_items = user_item_df[user_item_df['item_id'].isin(review_df['itemID'])]['item_id'].tolist()\n",
        "    user_item_names = user_item_df[user_item_df['item_id'].isin(review_df['itemID'])]['item_name'].tolist()\n",
        "\n",
        "\n",
        "    # Generar predicciones para los items no vistos\n",
        "    all_items = bundle_df['item_id'].unique()\n",
        "    recommendations = []\n",
        "\n",
        "    for itemID in all_items:\n",
        "        if itemID not in user_items:\n",
        "            pred = algo.predict(userID, itemID)\n",
        "            recommendations.append((itemID, pred.est))\n",
        "\n",
        "    # Ordenar las recomendaciones por calificación predicha\n",
        "    recommendations.sort(key=lambda x: x[1], reverse=True)\n",
        "\n",
        "    # Seleccionar los top n items\n",
        "    top_recommendations = recommendations[:n]\n",
        "    recommended_items = [item[0] for item in top_recommendations]\n",
        "\n",
        "    # Obtener nombres de los items recomendados\n",
        "    recommended_item_names = bundle_df[bundle_df['item_id'].isin(recommended_items)]['item_name'].tolist()\n",
        "\n",
        "    return recommended_item_names"
      ],
      "metadata": {
        "id": "jz_iUvXvuP4y"
      },
      "execution_count": null,
      "outputs": []
    },
    {
      "cell_type": "code",
      "source": [
        "# Ejemplo de uso\n",
        "userID = '76561198091973414'  # ID de usuario del ejemplo\n",
        "recommendations = recommend(userID, user_item_df, review_df, bundle_df, algo, n=3)\n",
        "print(f\"Recomendaciones para el usuario {userID}: {recommendations}\")"
      ],
      "metadata": {
        "id": "cspVUWEYuzWn"
      },
      "execution_count": null,
      "outputs": []
    }
  ]
}