{
  "nbformat": 4,
  "nbformat_minor": 0,
  "metadata": {
    "colab": {
      "provenance": []
    },
    "kernelspec": {
      "name": "python3",
      "display_name": "Python 3"
    },
    "language_info": {
      "name": "python"
    }
  },
  "cells": [
    {
      "cell_type": "code",
      "execution_count": null,
      "metadata": {
        "id": "987rT4YjbByK"
      },
      "outputs": [],
      "source": [
        "import pandas as pd\n",
        "import json\n",
        "from sklearn.model_selection import train_test_split\n",
        "from sklearn.linear_model import LogisticRegression\n",
        "from sklearn.metrics import accuracy_score, confusion_matrix, classification_report"
      ]
    },
    {
      "cell_type": "code",
      "source": [
        "# Cargar datos desde archivos JSON\n",
        "with open('user_item_data.json', 'r') as f:\n",
        "  user_item_data = json.load(f)\n",
        "\n",
        "with open('review_data.json', 'r') as f:\n",
        "  review_data = json.load(f)\n",
        "\n",
        "with open('bundle_data.json', 'r') as f:\n",
        "  bundle_data = json.load(f)"
      ],
      "metadata": {
        "id": "9YzFLZ-Cb-uZ"
      },
      "execution_count": null,
      "outputs": []
    },
    {
      "cell_type": "code",
      "source": [
        "# Crear DataFrames\n",
        "user_item_df = pd.DataFrame(user_item_data['items'])\n",
        "review_df = pd.DataFrame(review_data['reviews'])\n",
        "bundle_df = pd.DataFrame(bundle_data['items'])"
      ],
      "metadata": {
        "id": "2hGuP93KbbpK"
      },
      "execution_count": null,
      "outputs": []
    },
    {
      "cell_type": "code",
      "source": [
        "# Preprocesamiento\n",
        "review_df = review_df.rename(columns={'username': 'userID', 'product_id': 'itemID', 'text': 'rating'})\n",
        "review_df['rating'] = review_df['rating'].astype(float)"
      ],
      "metadata": {
        "id": "9fHPj1PYbekN"
      },
      "execution_count": null,
      "outputs": []
    },
    {
      "cell_type": "code",
      "source": [
        "# Características y etiquetas\n",
        "X = review_df[['userID', 'itemID']]\n",
        "y = (review_df['rating'] > 3).astype(int)  # Clasificación binaria: 1 si rating > 3, 0 en caso contrario"
      ],
      "metadata": {
        "id": "Zqq3IkSfbnT2"
      },
      "execution_count": null,
      "outputs": []
    },
    {
      "cell_type": "code",
      "source": [
        "# División de datos en conjuntos de entrenamiento y prueba\n",
        "X_train, X_test, y_train, y_test = train_test_split(X, y, test_size=0.25, random_state=42)"
      ],
      "metadata": {
        "id": "hidcTFxdbryg"
      },
      "execution_count": null,
      "outputs": []
    },
    {
      "cell_type": "code",
      "source": [
        "# Entrenar el modelo de Regresión Logística\n",
        "log_reg = LogisticRegression()\n",
        "log_reg.fit(X_train, y_train)"
      ],
      "metadata": {
        "id": "TKRNxS0ebuN8"
      },
      "execution_count": null,
      "outputs": []
    },
    {
      "cell_type": "code",
      "source": [
        "# Predicciones\n",
        "y_pred = log_reg.predict(X_test)"
      ],
      "metadata": {
        "id": "ug0EGN7Eb2qJ"
      },
      "execution_count": null,
      "outputs": []
    },
    {
      "cell_type": "code",
      "source": [
        "# Evaluación del modelo\n",
        "print(\"Accuracy:\", accuracy_score(y_test, y_pred))\n",
        "print(\"Confusion Matrix:\\n\", confusion_matrix(y_test, y_pred))\n",
        "print(\"Classification Report:\\n\", classification_report(y_test, y_pred))"
      ],
      "metadata": {
        "id": "R1Vh9sFDb5V_"
      },
      "execution_count": null,
      "outputs": []
    }
  ]
}